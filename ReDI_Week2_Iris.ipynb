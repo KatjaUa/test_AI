{
 "cells": [
  {
   "cell_type": "markdown",
   "id": "b3b242b5",
   "metadata": {},
   "source": [
    "\n",
    "# ReDI — Week 2: Data Types, Statistics & Visualization (Iris Dataset)\n",
    "\n",
    "This notebook is designed for **beginners** in AI and data analysis.\n",
    "\n",
    "You will learn:\n",
    "- **Data types**: nominal, ordinal, interval, ratio; discrete vs continuous; categorical vs numerical.\n",
    "- **Summary statistics**: mean, median, mode, range, variance, std, IQR, correlation.\n",
    "- **Plots**: bar, line, box, scatter, histogram.\n",
    "- Hands-on exercises (using only the **Iris** dataset).\n"
   ]
  },
  {
   "cell_type": "markdown",
   "id": "18c0be6a",
   "metadata": {},
   "source": [
    "## 0) Setup"
   ]
  },
  {
   "cell_type": "code",
   "execution_count": null,
   "id": "c8467ca5",
   "metadata": {},
   "outputs": [
    {
     "data": {
      "application/vnd.microsoft.datawrangler.viewer.v0+json": {
       "columns": [
        {
         "name": "index",
         "rawType": "int64",
         "type": "integer"
        },
        {
         "name": "sepal_length",
         "rawType": "float64",
         "type": "float"
        },
        {
         "name": "sepal_width",
         "rawType": "float64",
         "type": "float"
        },
        {
         "name": "petal_length",
         "rawType": "float64",
         "type": "float"
        },
        {
         "name": "petal_width",
         "rawType": "float64",
         "type": "float"
        },
        {
         "name": "target",
         "rawType": "int64",
         "type": "integer"
        },
        {
         "name": "species",
         "rawType": "object",
         "type": "string"
        }
       ],
       "ref": "7a505a88-823e-452c-a4c7-772f5a282d9b",
       "rows": [
        [
         "0",
         "5.1",
         "3.5",
         "1.4",
         "0.2",
         "0",
         "setosa"
        ],
        [
         "1",
         "4.9",
         "3.0",
         "1.4",
         "0.2",
         "0",
         "setosa"
        ],
        [
         "2",
         "4.7",
         "3.2",
         "1.3",
         "0.2",
         "0",
         "setosa"
        ],
        [
         "3",
         "4.6",
         "3.1",
         "1.5",
         "0.2",
         "0",
         "setosa"
        ],
        [
         "4",
         "5.0",
         "3.6",
         "1.4",
         "0.2",
         "0",
         "setosa"
        ]
       ],
       "shape": {
        "columns": 6,
        "rows": 5
       }
      },
      "text/html": [
       "<div>\n",
       "<style scoped>\n",
       "    .dataframe tbody tr th:only-of-type {\n",
       "        vertical-align: middle;\n",
       "    }\n",
       "\n",
       "    .dataframe tbody tr th {\n",
       "        vertical-align: top;\n",
       "    }\n",
       "\n",
       "    .dataframe thead th {\n",
       "        text-align: right;\n",
       "    }\n",
       "</style>\n",
       "<table border=\"1\" class=\"dataframe\">\n",
       "  <thead>\n",
       "    <tr style=\"text-align: right;\">\n",
       "      <th></th>\n",
       "      <th>sepal_length</th>\n",
       "      <th>sepal_width</th>\n",
       "      <th>petal_length</th>\n",
       "      <th>petal_width</th>\n",
       "      <th>target</th>\n",
       "      <th>species</th>\n",
       "    </tr>\n",
       "  </thead>\n",
       "  <tbody>\n",
       "    <tr>\n",
       "      <th>0</th>\n",
       "      <td>5.1</td>\n",
       "      <td>3.5</td>\n",
       "      <td>1.4</td>\n",
       "      <td>0.2</td>\n",
       "      <td>0</td>\n",
       "      <td>setosa</td>\n",
       "    </tr>\n",
       "    <tr>\n",
       "      <th>1</th>\n",
       "      <td>4.9</td>\n",
       "      <td>3.0</td>\n",
       "      <td>1.4</td>\n",
       "      <td>0.2</td>\n",
       "      <td>0</td>\n",
       "      <td>setosa</td>\n",
       "    </tr>\n",
       "    <tr>\n",
       "      <th>2</th>\n",
       "      <td>4.7</td>\n",
       "      <td>3.2</td>\n",
       "      <td>1.3</td>\n",
       "      <td>0.2</td>\n",
       "      <td>0</td>\n",
       "      <td>setosa</td>\n",
       "    </tr>\n",
       "    <tr>\n",
       "      <th>3</th>\n",
       "      <td>4.6</td>\n",
       "      <td>3.1</td>\n",
       "      <td>1.5</td>\n",
       "      <td>0.2</td>\n",
       "      <td>0</td>\n",
       "      <td>setosa</td>\n",
       "    </tr>\n",
       "    <tr>\n",
       "      <th>4</th>\n",
       "      <td>5.0</td>\n",
       "      <td>3.6</td>\n",
       "      <td>1.4</td>\n",
       "      <td>0.2</td>\n",
       "      <td>0</td>\n",
       "      <td>setosa</td>\n",
       "    </tr>\n",
       "  </tbody>\n",
       "</table>\n",
       "</div>"
      ],
      "text/plain": [
       "   sepal_length  sepal_width  petal_length  petal_width  target species\n",
       "0           5.1          3.5           1.4          0.2       0  setosa\n",
       "1           4.9          3.0           1.4          0.2       0  setosa\n",
       "2           4.7          3.2           1.3          0.2       0  setosa\n",
       "3           4.6          3.1           1.5          0.2       0  setosa\n",
       "4           5.0          3.6           1.4          0.2       0  setosa"
      ]
     },
     "execution_count": 3,
     "metadata": {},
     "output_type": "execute_result"
    }
   ],
   "source": [
    "\n",
    "import pandas as pd\n",
    "import numpy as np\n",
    "import matplotlib.pyplot as plt\n",
    "from sklearn.datasets import load_iris\n",
    "\n",
    "iris = load_iris(as_frame=True)\n",
    "df = iris.frame.copy()\n",
    "df[\"species\"] = df[\"target\"].map(dict(enumerate(iris.target_names)))\n",
    "\n",
    "df = df.rename(columns={\n",
    "    \"sepal length (cm)\": \"sepal_length\",\n",
    "    \"sepal width (cm)\": \"sepal_width\",\n",
    "    \"petal length (cm)\": \"petal_length\",\n",
    "    \"petal width (cm)\": \"petal_width\"\n",
    "})\n",
    "\n",
    "df.head()\n"
   ]
  },
  {
   "cell_type": "markdown",
   "id": "cc2edab8",
   "metadata": {},
   "source": [
    "\n",
    "## 1) Data Types — Iris Dataset\n",
    "\n",
    "- **Nominal**: `species` (category with no order)\n",
    "- **Ratio**: `sepal_length`, `sepal_width`, `petal_length`, `petal_width` (continuous, true zero exists)\n",
    "- **Categorical vs Numerical**:\n",
    "  - `species` → categorical\n",
    "  - Others → numerical (continuous)\n"
   ]
  },
  {
   "cell_type": "markdown",
   "id": "aee31006",
   "metadata": {},
   "source": [
    "## 2) Summary Statistics on `petal_length`"
   ]
  },
  {
   "cell_type": "code",
   "execution_count": null,
   "id": "b243c483",
   "metadata": {},
   "outputs": [],
   "source": [
    "\n",
    "x = df[\"petal_length\"]\n",
    "pd.Series({\n",
    "    \"mean\": x.mean(),\n",
    "    \"median\": x.median(),\n",
    "    \"mode\": x.mode()[0],\n",
    "    \"range\": x.max() - x.min(),\n",
    "    \"variance\": x.var(),\n",
    "    \"std\": x.std(),\n",
    "    \"IQR\": x.quantile(0.75) - x.quantile(0.25)\n",
    "}).round(2)\n"
   ]
  },
  {
   "cell_type": "markdown",
   "id": "145f325e",
   "metadata": {},
   "source": [
    "### Correlation between Petal Length & Petal Width"
   ]
  },
  {
   "cell_type": "code",
   "execution_count": null,
   "id": "80bfe08d",
   "metadata": {},
   "outputs": [],
   "source": [
    "df[['petal_length', 'petal_width']].corr().round(2)"
   ]
  },
  {
   "cell_type": "markdown",
   "id": "f620bbd6",
   "metadata": {},
   "source": [
    "## 3) Visualizations (Iris Dataset Only)"
   ]
  },
  {
   "cell_type": "markdown",
   "id": "1f0f8661",
   "metadata": {},
   "source": [
    "### Histogram — Petal Length"
   ]
  },
  {
   "cell_type": "code",
   "execution_count": null,
   "id": "60125c20",
   "metadata": {},
   "outputs": [],
   "source": [
    "\n",
    "plt.hist(df[\"petal_length\"], bins=20, edgecolor=\"black\")\n",
    "plt.title(\"Petal Length Distribution\")\n",
    "plt.xlabel(\"Petal Length (cm)\")\n",
    "plt.ylabel(\"Frequency\")\n",
    "plt.show()\n"
   ]
  },
  {
   "cell_type": "markdown",
   "id": "6310d5bb",
   "metadata": {},
   "source": [
    "### Bar Chart — Avg Petal Length by Species"
   ]
  },
  {
   "cell_type": "code",
   "execution_count": null,
   "id": "fd9b545e",
   "metadata": {},
   "outputs": [],
   "source": [
    "\n",
    "df.groupby(\"species\")[\"petal_length\"].mean().plot(kind=\"bar\", color=\"lightgreen\", edgecolor=\"black\")\n",
    "plt.title(\"Average Petal Length by Species\")\n",
    "plt.ylabel(\"Petal Length (cm)\")\n",
    "plt.xticks(rotation=0)\n",
    "plt.show()\n"
   ]
  },
  {
   "cell_type": "markdown",
   "id": "0c5cebfa",
   "metadata": {},
   "source": [
    "### Line Plot — Petal Length (First 30 Samples)"
   ]
  },
  {
   "cell_type": "code",
   "execution_count": null,
   "id": "8260d0ef",
   "metadata": {},
   "outputs": [],
   "source": [
    "\n",
    "plt.plot(df[\"petal_length\"].head(30), marker='o')\n",
    "plt.title(\"Petal Length - First 30 Samples\")\n",
    "plt.ylabel(\"Length (cm)\")\n",
    "plt.xlabel(\"Index\")\n",
    "plt.grid(True)\n",
    "plt.show()\n"
   ]
  },
  {
   "cell_type": "markdown",
   "id": "b92cb312",
   "metadata": {},
   "source": [
    "### Box Plot — Petal Length by Species"
   ]
  },
  {
   "cell_type": "code",
   "execution_count": null,
   "id": "6a40c0ac",
   "metadata": {},
   "outputs": [],
   "source": [
    "\n",
    "data = [df[df[\"species\"]==s][\"petal_length\"] for s in df[\"species\"].unique()]\n",
    "plt.boxplot(data, labels=df[\"species\"].unique(), showmeans=True)\n",
    "plt.title(\"Petal Length by Species\")\n",
    "plt.ylabel(\"Length (cm)\")\n",
    "plt.show()\n"
   ]
  },
  {
   "cell_type": "markdown",
   "id": "8c95d7e5",
   "metadata": {},
   "source": [
    "### Scatter Plot — Petal Length vs Petal Width"
   ]
  },
  {
   "cell_type": "code",
   "execution_count": null,
   "id": "b449f7ce",
   "metadata": {},
   "outputs": [],
   "source": [
    "\n",
    "for name in df[\"species\"].unique():\n",
    "    part = df[df[\"species\"]==name]\n",
    "    plt.scatter(part[\"petal_length\"], part[\"petal_width\"], label=name)\n",
    "plt.title(\"Petal Length vs Petal Width\")\n",
    "plt.xlabel(\"Petal Length (cm)\")\n",
    "plt.ylabel(\"Petal Width (cm)\")\n",
    "plt.legend()\n",
    "plt.show()\n"
   ]
  },
  {
   "cell_type": "markdown",
   "id": "c0a85422",
   "metadata": {},
   "source": [
    "\n",
    "## 4) Exercises\n",
    "\n",
    "Try these on your own:\n",
    "\n",
    "1. Create an ordinal feature (`short`, `medium`, `long`) from `petal_length` using quantiles.\n",
    "2. Compare mean vs median of `sepal_width` for each species.\n",
    "3. Make a scatter plot of `sepal_length` vs `sepal_width`, colored by species.\n",
    "4. Compute correlations between all four numerical columns.\n"
   ]
  }
 ],
 "metadata": {
  "kernelspec": {
   "display_name": "Python 3",
   "language": "python",
   "name": "python3"
  },
  "language_info": {
   "codemirror_mode": {
    "name": "ipython",
    "version": 3
   },
   "file_extension": ".py",
   "mimetype": "text/x-python",
   "name": "python",
   "nbconvert_exporter": "python",
   "pygments_lexer": "ipython3",
   "version": "3.9.13"
  }
 },
 "nbformat": 4,
 "nbformat_minor": 5
}
